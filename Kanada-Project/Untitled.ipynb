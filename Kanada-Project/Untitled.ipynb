{
 "cells": [
  {
   "cell_type": "code",
   "execution_count": 20,
   "metadata": {},
   "outputs": [
    {
     "name": "stdout",
     "output_type": "stream",
     "text": [
      "(60000, 28, 28, 1) (10000, 28, 28, 1)\n"
     ]
    }
   ],
   "source": [
    "# Author By Gary1111\n",
    "\n",
    "import numpy as np\n",
    "import pandas as pd\n",
    "from keras import Sequential\n",
    "from keras.layers import Conv2D, MaxPooling2D, Dropout, Flatten, Dense\n",
    "import matplotlib.pyplot as plt\n",
    "\n",
    "train = pd.read_csv(\"../data/DataPre/train_XY.csv\", index_col=False)\n",
    "test = pd.read_csv('../data/DataPre/test.csv', index_col=False)\n",
    "test.rename(columns={\"Unnamed: 0\": 'id'}, inplace=True)\n",
    "test['id'] = list(range(1, 10001))\n",
    "train_x = train.drop(['id', 'label'], axis=1)  # 得到训练特征\n",
    "train_y = train['label']  # 得到训练标签\n",
    "test_x = test.drop('id', axis=1)\n",
    "\n",
    "test_x = test_x / 255\n",
    "train_x = train_x / 255\n",
    "train_y = train_y.to_numpy()\n",
    "train_feature = train_x.to_numpy().reshape((-1, 28, 28,1))\n",
    "test_feature = test_x.to_numpy().reshape((-1, 28, 28,1))\n",
    "print(train_feature.shape, test_feature.shape)\n",
    "\n",
    "\n"
   ]
  },
  {
   "cell_type": "code",
   "execution_count": 18,
   "metadata": {},
   "outputs": [
    {
     "data": {
      "text/plain": [
       "Text(0.5, 1.0, '1')"
      ]
     },
     "execution_count": 18,
     "metadata": {},
     "output_type": "execute_result"
    },
    {
     "data": {
      "image/png": "[encoded data removed]",
      "text/plain": [
       "<Figure size 432x432 with 1 Axes>"
      ]
     },
     "metadata": {
      "needs_background": "light"
     },
     "output_type": "display_data"
    }
   ],
   "source": [
    "plt.figure(figsize=(6,6))\n",
    "plt.imshow(train_feature[1],cmap='inferno')\n",
    "plt.title(train_y[1])"
   ]
  },
  {
   "cell_type": "code",
   "execution_count": 16,
   "metadata": {},
   "outputs": [
    {
     "name": "stdout",
     "output_type": "stream",
     "text": [
      "_________________________________________________________________\n",
      "Layer (type)                 Output Shape              Param #   \n",
      "=================================================================\n",
      "conv2d_21 (Conv2D)           (None, 26, 26, 16)        160       \n",
      "_________________________________________________________________\n",
      "conv2d_22 (Conv2D)           (None, 26, 26, 32)        4640      \n",
      "_________________________________________________________________\n",
      "max_pooling2d_17 (MaxPooling (None, 13, 13, 32)        0         \n",
      "_________________________________________________________________\n",
      "dropout_21 (Dropout)         (None, 13, 13, 32)        0         \n",
      "_________________________________________________________________\n",
      "conv2d_23 (Conv2D)           (None, 13, 13, 64)        18496     \n",
      "_________________________________________________________________\n",
      "max_pooling2d_18 (MaxPooling (None, 6, 6, 64)          0         \n",
      "_________________________________________________________________\n",
      "dropout_22 (Dropout)         (None, 6, 6, 64)          0         \n",
      "_________________________________________________________________\n",
      "conv2d_24 (Conv2D)           (None, 6, 6, 128)         73856     \n",
      "_________________________________________________________________\n",
      "max_pooling2d_19 (MaxPooling (None, 3, 3, 128)         0         \n",
      "_________________________________________________________________\n",
      "dropout_23 (Dropout)         (None, 3, 3, 128)         0         \n",
      "_________________________________________________________________\n",
      "conv2d_25 (Conv2D)           (None, 3, 3, 256)         295168    \n",
      "_________________________________________________________________\n",
      "max_pooling2d_20 (MaxPooling (None, 1, 1, 256)         0         \n",
      "_________________________________________________________________\n",
      "dropout_24 (Dropout)         (None, 1, 1, 256)         0         \n",
      "_________________________________________________________________\n",
      "flatten_5 (Flatten)          (None, 256)               0         \n",
      "_________________________________________________________________\n",
      "dense_9 (Dense)              (None, 256)               65792     \n",
      "_________________________________________________________________\n",
      "dropout_25 (Dropout)         (None, 256)               0         \n",
      "_________________________________________________________________\n",
      "dense_10 (Dense)             (None, 10)                2570      \n",
      "=================================================================\n",
      "Total params: 460,682\n",
      "Trainable params: 460,682\n",
      "Non-trainable params: 0\n",
      "_________________________________________________________________\n"
     ]
    }
   ],
   "source": [
    "\n",
    "# Initialising the ANN\n",
    "classifier = Sequential()\n",
    "\n",
    "# Adding the input layer and the first hidden layer\n",
    "classifier.add(Conv2D(16, (3, 3), input_shape=(28, 28), activation='relu'))\n",
    "\n",
    "classifier.add(Conv2D(32, kernel_size=3, padding=\"same\", activation='relu'))\n",
    "classifier.add(MaxPooling2D(pool_size=(2, 2)))\n",
    "classifier.add(Dropout(0.25))\n",
    "\n",
    "classifier.add(Conv2D(64, kernel_size=3, padding=\"same\", activation='relu'))\n",
    "classifier.add(MaxPooling2D(pool_size=(2, 2)))\n",
    "classifier.add(Dropout(0.25))\n",
    "\n",
    "classifier.add(Conv2D(128, kernel_size=3, padding=\"same\", activation='relu'))\n",
    "classifier.add(MaxPooling2D(pool_size=(2, 2)))\n",
    "classifier.add(Dropout(0.25))\n",
    "\n",
    "classifier.add(Conv2D(256, kernel_size=3, padding=\"same\", activation='relu'))\n",
    "classifier.add(MaxPooling2D(pool_size=(2, 2)))\n",
    "classifier.add(Dropout(0.25))\n",
    "\n",
    "classifier.add(Flatten())\n",
    "classifier.add(Dense(256, activation='relu'))\n",
    "classifier.add(Dropout(0.5))\n",
    "classifier.add(Dense(10, activation='softmax'))\n",
    "\n",
    "classifier.summary()\n",
    "\n",
    "\n"
   ]
  },
  {
   "cell_type": "code",
   "execution_count": 38,
   "metadata": {},
   "outputs": [
    {
     "name": "stdout",
     "output_type": "stream",
     "text": [
      "Epoch 1/10\n",
      "60000/60000 [==============================] - 73s 1ms/step - loss: 0.0358 - acc: 0.9901\n",
      "Epoch 2/10\n",
      "60000/60000 [==============================] - 69s 1ms/step - loss: 0.0310 - acc: 0.9914\n",
      "Epoch 3/10\n",
      "60000/60000 [==============================] - 71s 1ms/step - loss: 0.0289 - acc: 0.9920\n",
      "Epoch 4/10\n",
      "60000/60000 [==============================] - 75s 1ms/step - loss: 0.0258 - acc: 0.9924\n",
      "Epoch 5/10\n",
      "60000/60000 [==============================] - 72s 1ms/step - loss: 0.0271 - acc: 0.9923\n",
      "Epoch 6/10\n",
      "60000/60000 [==============================] - 77s 1ms/step - loss: 0.0267 - acc: 0.9920\n",
      "Epoch 7/10\n",
      "60000/60000 [==============================] - 71s 1ms/step - loss: 0.0249 - acc: 0.9928\n",
      "Epoch 8/10\n",
      "60000/60000 [==============================] - 78s 1ms/step - loss: 0.0237 - acc: 0.9927\n",
      "Epoch 9/10\n",
      "60000/60000 [==============================] - 75s 1ms/step - loss: 0.0232 - acc: 0.9932\n",
      "Epoch 10/10\n",
      "60000/60000 [==============================] - 77s 1ms/step - loss: 0.0223 - acc: 0.9934\n"
     ]
    },
    {
     "data": {
      "text/plain": [
       "<keras.callbacks.History at 0x1da261d3e80>"
      ]
     },
     "execution_count": 38,
     "metadata": {},
     "output_type": "execute_result"
    }
   ],
   "source": [
    "#Plot the training loss & accuracy\n",
    "from keras.callbacks import ModelCheckpoint,Callback,EarlyStopping\n",
    "from keras.utils import to_categorical,plot_model\n",
    "\n",
    "# Compiling the ANN\n",
    "classifier.compile(loss='sparse_categorical_crossentropy', optimizer=\"Adam\", metrics=['accuracy'])\n",
    "\n",
    "# Fitting the ANN to the Training set\n",
    "classifier.fit(train_feature, train_y, batch_size=128, epochs=10)\n",
    "\n"
   ]
  },
  {
   "cell_type": "code",
   "execution_count": 39,
   "metadata": {},
   "outputs": [],
   "source": [
    "# Part 3 - Making predictions and evaluating the classifier\n",
    "\n",
    "# Predicting the Test set results\n",
    "y_pred = classifier.predict(test_feature)\n",
    "results = np.argmax(y_pred, axis=1)\n",
    "\n",
    "# data_out = pd.DataFrame({'id': range(1, 10001), 'label': results})\n",
    "# data_out.to_csv('submission.csv', index=None)"
   ]
  },
  {
   "cell_type": "code",
   "execution_count": null,
   "metadata": {},
   "outputs": [],
   "source": []
  },
  {
   "cell_type": "code",
   "execution_count": null,
   "metadata": {},
   "outputs": [],
   "source": []
  }
 ],
 "metadata": {
  "kernelspec": {
   "display_name": "Python 3",
   "language": "python",
   "name": "python3"
  },
  "language_info": {
   "codemirror_mode": {
    "name": "ipython",
    "version": 3
   },
   "file_extension": ".py",
   "mimetype": "text/x-python",
   "name": "python",
   "nbconvert_exporter": "python",
   "pygments_lexer": "ipython3",
   "version": "3.7.2"
  }
 },
 "nbformat": 4,
 "nbformat_minor": 2
}
